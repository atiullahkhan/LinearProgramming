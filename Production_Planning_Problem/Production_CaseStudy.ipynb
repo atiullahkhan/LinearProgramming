{
 "cells": [
  {
   "cell_type": "markdown",
   "metadata": {},
   "source": [
    "# Production Planning Problem\n",
    "This is a very simple production planning problem.\n",
    "\n",
    "Suppose that we are responsible for scheduling the monthly production plan of a product for a year. Here are some assumptions:\n",
    "- The demand of the product, unit production cost, and production capacity in each month are given.\n",
    "- Inventory holding costs are assessed at the end of each month.\n",
    "- Holding cost per unit is invariant from month to month.\n",
    "- There are 500 units of inventory available at the beginning of the first month.\n",
    "- No shortage is allowed.\n",
    "\n",
    "### Mathematical Formulation\n",
    "Let us derive the formulation from the problem description.\n",
    "\n",
    "##### Sets:\n",
    "- **t**: the set of time periods (months)\n",
    "\n",
    "##### Parameters:\n",
    "- **h**: unit holding cost\n",
    "- **p**: production capacity per month\n",
    "- **I_0**: the initial inventory\n",
    "- **c_t**ₜ: unit production cost in month t\n",
    "- **d_t**: demand of month t\n",
    "\n",
    "##### Variables:\n",
    "- **X_t**: amount produced in month t\n",
    "- **I_t**: inventory at the end of period t\n",
    "\n",
    "##### Objective:\n",
    "**Minimize: (h x I_t + c_t x X_t)**\n",
    "\n",
    "###### Constraints\n",
    "- Inventory Constraints: I_{t-1} + X_t - d_t = I_t\n",
    "- Capacity Constraints: X_t <= p"
   ]
  },
  {
   "cell_type": "code",
   "execution_count": 1,
   "metadata": {},
   "outputs": [],
   "source": [
    "# Import PuLP modeler functions\n",
    "from pulp import *\n",
    "import pandas as pd\n",
    "from time import time"
   ]
  },
  {
   "cell_type": "code",
   "execution_count": 2,
   "metadata": {
    "scrolled": true
   },
   "outputs": [
    {
     "data": {
      "text/plain": [
       "{'input_data':     period  demand  production_cost  production_capacity\n",
       " 0        1    3300              150                 6400\n",
       " 1        2    3300              150                 6400\n",
       " 2        3    4500              140                 6800\n",
       " 3        4    6100              140                 6800\n",
       " 4        5    5100              150                 6400\n",
       " 5        6    9000              135                 7000\n",
       " 6        7    9700              135                 7000\n",
       " 7        8    8200              135                 7000\n",
       " 8        9    7900              135                 6800\n",
       " 9       10    5700              140                 6800\n",
       " 10      11    4500              140                 6800\n",
       " 11      12    4200              140                 6400,\n",
       " 'parameters':            attribute  value\n",
       " 0       holding_cost      8\n",
       " 1  initial_inventory    500}"
      ]
     },
     "execution_count": 2,
     "metadata": {},
     "output_type": "execute_result"
    }
   ],
   "source": [
    "# Create a dictionary from the available data\n",
    "input_df_dict = {}\n",
    "input_df_dict['input_data'] = pd.read_csv(\"input_data.csv\")\n",
    "input_df_dict['parameters'] = pd.read_csv(\"parameters.csv\")\n",
    "input_df_dict"
   ]
  },
  {
   "cell_type": "code",
   "execution_count": 3,
   "metadata": {},
   "outputs": [
    {
     "data": {
      "text/plain": [
       "{'holding_cost': 8, 'initial_inventory': 500}"
      ]
     },
     "execution_count": 3,
     "metadata": {},
     "output_type": "execute_result"
    }
   ],
   "source": [
    "# As the parameters are few, a dictionary is created separately\n",
    "input_param_dict = input_df_dict['parameters'].set_index('attribute')['value'].to_dict()\n",
    "input_param_dict"
   ]
  },
  {
   "cell_type": "code",
   "execution_count": 4,
   "metadata": {},
   "outputs": [],
   "source": [
    "# Create the model variable to contain the problem data\n",
    "model = LpProblem(name='Production_Planning', sense=LpMinimize)"
   ]
  },
  {
   "cell_type": "code",
   "execution_count": 5,
   "metadata": {},
   "outputs": [],
   "source": [
    "# Decision variables\n",
    "production_variables = LpVariable.dicts(name='X', indexs=input_df_dict['input_data'].index,\n",
    "                                        lowBound=0, cat=LpContinuous)\n",
    "# i.e, {0: X_0, 1: X_1, 2: X_2, 3: X_3, 4: X_4, 5: X_5, 6: X_6, 7: X_7, 8: X_8, 9: X_9, 10: X_10, 11: X_11}\n",
    "\n",
    "inventory_variables = LpVariable.dicts(name='I', indexs=input_df_dict['input_data'].index,\n",
    "                                       lowBound=0, cat=LpContinuous)\n",
    "# i.e, {0: I_0, 1: I_1, 2: I_2, 3: I_3, 4: I_4, 5: I_5, 6: I_6, 7: I_7, 8: I_8, 9: I_9, 10: I_10, 11: I_11}"
   ]
  },
  {
   "cell_type": "code",
   "execution_count": 6,
   "metadata": {
    "scrolled": true
   },
   "outputs": [
    {
     "data": {
      "text/plain": [
       "({0: X_0,\n",
       "  1: X_1,\n",
       "  2: X_2,\n",
       "  3: X_3,\n",
       "  4: X_4,\n",
       "  5: X_5,\n",
       "  6: X_6,\n",
       "  7: X_7,\n",
       "  8: X_8,\n",
       "  9: X_9,\n",
       "  10: X_10,\n",
       "  11: X_11},\n",
       " {0: I_0,\n",
       "  1: I_1,\n",
       "  2: I_2,\n",
       "  3: I_3,\n",
       "  4: I_4,\n",
       "  5: I_5,\n",
       "  6: I_6,\n",
       "  7: I_7,\n",
       "  8: I_8,\n",
       "  9: I_9,\n",
       "  10: I_10,\n",
       "  11: I_11})"
      ]
     },
     "execution_count": 6,
     "metadata": {},
     "output_type": "execute_result"
    }
   ],
   "source": [
    "production_variables, inventory_variables"
   ]
  },
  {
   "cell_type": "code",
   "execution_count": 7,
   "metadata": {},
   "outputs": [],
   "source": [
    "# Inventory balance constraints\n",
    "for period, value in input_df_dict['input_data'].iloc[1:].iterrows():\n",
    "    model.addConstraint(LpConstraint(\n",
    "        e=inventory_variables[period - 1] + production_variables[period] - inventory_variables[period],\n",
    "        sense=LpConstraintEQ,\n",
    "        name='inv_balance' + str(period),\n",
    "        rhs=value.demand))\n",
    "#i.e,    1 I_0 - I_1 + X_1 = 3300\n",
    "#        2 I_1 - I_2 + X_2 = 4500\n",
    "#        3 I_2 - I_3 + X_3 = 6100\n",
    "#        4 I_3 - I_4 + X_4 = 5100\n",
    "#        5 I_4 - I_5 + X_5 = 9000\n",
    "#        6 I_5 - I_6 + X_6 = 9700\n",
    "#        7 I_6 - I_7 + X_7 = 8200\n",
    "#        8 I_7 - I_8 + X_8 = 7900\n",
    "#        9 I_8 - I_9 + X_9 = 5700\n",
    "#        10 -I_10 + I_9 + X_10 = 4500\n",
    "#        11 I_10 - I_11 + X_11 = 4200\n",
    "\n",
    "# inv balance for first period\n",
    "model.addConstraint(LpConstraint(\n",
    "    e=production_variables[0] - inventory_variables[0],\n",
    "    sense=LpConstraintEQ,\n",
    "    name='inv_balance0',\n",
    "    rhs=input_df_dict['input_data'].iloc[0].demand - input_param_dict['initial_inventory']))\n",
    "# i.e, (-1*I_0 + 1*X_0 + 0 = 3300 - 500)"
   ]
  },
  {
   "cell_type": "code",
   "execution_count": 8,
   "metadata": {},
   "outputs": [],
   "source": [
    "# Production capacity constraints\n",
    "for index, value in production_variables.items():\n",
    "    model.addConstraint(LpConstraint(\n",
    "        e=value,\n",
    "        sense=LpConstraintLE,\n",
    "        name='prod_cap_month_' + str(index),\n",
    "        rhs=input_df_dict['input_data'].iloc[index].production_capacity))\n",
    "# i.e,   X_0 = 6400\n",
    "#        X_1 = 6400\n",
    "#        X_3 = 6800\n",
    "#        X_4 = 6400\n",
    "#        X_5 = 7000\n",
    "#        X_6 = 7000\n",
    "#        X_7 = 7000\n",
    "#        X_8 = 6800\n",
    "#        X_9 = 6800\n",
    "#        X_10 = 6800\n",
    "#        X_11 = 6400"
   ]
  },
  {
   "cell_type": "code",
   "execution_count": 9,
   "metadata": {},
   "outputs": [
    {
     "name": "stdout",
     "output_type": "stream",
     "text": [
      "Model creation time in sec: 0.4643\n"
     ]
    }
   ],
   "source": [
    "# Costs and objective function\n",
    "total_holding_cost = input_param_dict['holding_cost'] * lpSum(inventory_variables)\n",
    "# i.e, 8*I_0 + 8*I_1 + 8*I_10 + 8*I_11 + 8*I_2 + 8*I_3 + 8*I_4 + 8*I_5 + 8*I_6 + 8*I_7 + 8*I_8 + 8*I_9 + 0\n",
    "\n",
    "total_production_cost = lpSum(row['production_cost'] * production_variables[index]\n",
    "                              for index, row in input_df_dict['input_data'].iterrows())\n",
    "# i.e, 150*X_0 + 150*X_1 + 140*X_10 + 140*X_11 + 140*X_2 + 140*X_3 + 150*X_4 + 135*X_5 + 135*X_6 + 135*X_7 + 135*X_8 + 140*X_9 + 0\n",
    "\n",
    "objective = total_holding_cost + total_production_cost\n",
    "\n",
    "model.setObjective(objective)"
   ]
  },
  {
   "cell_type": "code",
   "execution_count": 10,
   "metadata": {},
   "outputs": [
    {
     "data": {
      "text/plain": [
       "8*I_0 + 8*I_1 + 8*I_10 + 8*I_11 + 8*I_2 + 8*I_3 + 8*I_4 + 8*I_5 + 8*I_6 + 8*I_7 + 8*I_8 + 8*I_9 + 150*X_0 + 150*X_1 + 140*X_10 + 140*X_11 + 140*X_2 + 140*X_3 + 150*X_4 + 135*X_5 + 135*X_6 + 135*X_7 + 135*X_8 + 140*X_9 + 0"
      ]
     },
     "execution_count": 10,
     "metadata": {},
     "output_type": "execute_result"
    }
   ],
   "source": [
    "model.objective"
   ]
  },
  {
   "cell_type": "code",
   "execution_count": 11,
   "metadata": {},
   "outputs": [
    {
     "data": {
      "text/plain": [
       "'Production_Planning'"
      ]
     },
     "execution_count": 11,
     "metadata": {},
     "output_type": "execute_result"
    }
   ],
   "source": [
    "model.name"
   ]
  },
  {
   "cell_type": "code",
   "execution_count": 12,
   "metadata": {},
   "outputs": [
    {
     "name": "stdout",
     "output_type": "stream",
     "text": [
      "1 Optimal\n"
     ]
    }
   ],
   "source": [
    "model.solve()\n",
    "print(model.status, LpStatus[model.status])"
   ]
  },
  {
   "cell_type": "code",
   "execution_count": 13,
   "metadata": {},
   "outputs": [
    {
     "name": "stdout",
     "output_type": "stream",
     "text": [
      "I_0 = 0.0\n",
      "I_1 = 2700.0\n",
      "I_10 = 0.0\n",
      "I_11 = 0.0\n",
      "I_2 = 5000.0\n",
      "I_3 = 5700.0\n",
      "I_4 = 7000.0\n",
      "I_5 = 5000.0\n",
      "I_6 = 2300.0\n",
      "I_7 = 1100.0\n",
      "I_8 = 0.0\n",
      "I_9 = 0.0\n",
      "X_0 = 2800.0\n",
      "X_1 = 6000.0\n",
      "X_10 = 4500.0\n",
      "X_11 = 4200.0\n",
      "X_2 = 6800.0\n",
      "X_3 = 6800.0\n",
      "X_4 = 6400.0\n",
      "X_5 = 7000.0\n",
      "X_6 = 7000.0\n",
      "X_7 = 7000.0\n",
      "X_8 = 6800.0\n",
      "X_9 = 5700.0\n"
     ]
    }
   ],
   "source": [
    "# Each of the variables is printed with it's resolved optimum value\n",
    "for v in model.variables():\n",
    "    print(v.name, \"=\", v.varValue)"
   ]
  },
  {
   "cell_type": "code",
   "execution_count": 14,
   "metadata": {},
   "outputs": [
    {
     "name": "stdout",
     "output_type": "stream",
     "text": [
      "Total Cost of Production =  10183400.0\n"
     ]
    }
   ],
   "source": [
    "# The optimised objective function value is printed to the screen    \n",
    "print(\"Total Cost of Production = \", model.objective.value())"
   ]
  },
  {
   "cell_type": "code",
   "execution_count": null,
   "metadata": {},
   "outputs": [],
   "source": []
  }
 ],
 "metadata": {
  "kernelspec": {
   "display_name": "Python 3",
   "language": "python",
   "name": "python3"
  },
  "language_info": {
   "codemirror_mode": {
    "name": "ipython",
    "version": 3
   },
   "file_extension": ".py",
   "mimetype": "text/x-python",
   "name": "python",
   "nbconvert_exporter": "python",
   "pygments_lexer": "ipython3",
   "version": "3.7.9"
  }
 },
 "nbformat": 4,
 "nbformat_minor": 4
}
