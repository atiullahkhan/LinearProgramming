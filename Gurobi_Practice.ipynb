{
 "cells": [
  {
   "cell_type": "code",
   "execution_count": 2,
   "metadata": {},
   "outputs": [],
   "source": [
    "import numpy as np\n",
    "import pandas as pd\n",
    "\n",
    "import gurobipy as gp\n",
    "from gurobipy import GRB\n",
    "\n",
    "# tested with Python 3.7.0 & Gurobi 9.0"
   ]
  },
  {
   "cell_type": "markdown",
   "metadata": {},
   "source": [
    "### Problem Description\n",
    "In this problem, we have six end distributors, each with a known demand for a product. Distributor demand can be satisfied from a set of four depots, or directly from a set of two factories. Each depot can support a maximum volume of product moving through it, and each factory can produce a maximum amount of product. There are known costs associated with transporting the product, from a factory to a depot, from a depot to a distributor, or from a factory directly to a distributor.\n",
    "\n",
    "**Sets**\n",
    "- Factories = {NewDelhi, Vishakhapatnam}\n",
    "- Depots = {Ahmedabad, Kolkata, Coimbatore, Nagpur}\n",
    "- Distributors = {C1, C2, C3, C4, C5, C6}\n",
    "- Cities = Factories ∪ Depots ∪ Distributors\n",
    "\n",
    "**Parameters**\n",
    "- cost: Cost of shipping one ton from source  s  to destination  t.\n",
    "- supply: Maximum possible supply from factory  f  (in tons).\n",
    "- throughput: Maximum possible flow through depot  d  (in tons).\n",
    "- demand: Demand for goods at distributor  c  (in tons).\n",
    "\n",
    "**Decision Variables**\n",
    "- flow: Quantity of goods (in tons) that is shipped from source  s  to destionation  t.\n",
    "\n",
    "**Objective Function**\n",
    "- Cost: Minimize total shipping costs.\n",
    "**Minimize = cost ∗ flow**\n",
    " \n",
    "**Constraints**\n",
    "Factory output: Flow of goods from a factory must respect maximum capacity.\n",
    "- flow ≤ supply\n",
    " \n",
    "Distributor demand: Flow of goods must meet distributor demand.\n",
    "- flow = demand\n",
    " \n",
    "Depot flow: Flow into a depot equals flow out of the depot.\n",
    "- flow = flow (from source to depot and depot to destination)\n",
    " \n",
    "- Depot capacity: Flow into a depot must respect depot capacity.\n",
    "flow ≤ throughput"
   ]
  },
  {
   "cell_type": "code",
   "execution_count": 18,
   "metadata": {},
   "outputs": [],
   "source": [
    "# Create dictionaries to capture factory supply limits, depot throughput limits, and distributor demand.\n",
    "supply = dict({'NewDelhi': 150000,\n",
    "               'Vishakhapatnam': 200000})\n",
    "\n",
    "throughput = dict({'Ahmedabad': 70000,\n",
    "                   'Kolkata': 50000,\n",
    "                   'Coimbatore': 100000,\n",
    "                   'Nagpur': 40000})\n",
    "\n",
    "demand = dict({'C1': 50000,\n",
    "               'C2': 10000,\n",
    "               'C3': 40000,\n",
    "               'C4': 35000,\n",
    "               'C5': 60000,\n",
    "               'C6': 20000})\n",
    "\n",
    "# Create a dictionary to capture shipping costs.\n",
    "arcs, cost = gp.multidict({\n",
    "    ('NewDelhi', 'Ahmedabad'): 0.5,\n",
    "    ('NewDelhi', 'Kolkata'): 0.5,\n",
    "    ('NewDelhi', 'Coimbatore'): 1.0,\n",
    "    ('NewDelhi', 'Nagpur'): 0.2,\n",
    "    ('NewDelhi', 'C1'): 1.0,\n",
    "    ('NewDelhi', 'C3'): 1.5,\n",
    "    ('NewDelhi', 'C4'): 2.0,\n",
    "    ('NewDelhi', 'C6'): 1.0,\n",
    "    ('Vishakhapatnam', 'Kolkata'): 0.3,\n",
    "    ('Vishakhapatnam', 'Coimbatore'): 0.5,\n",
    "    ('Vishakhapatnam', 'Nagpur'): 0.2,\n",
    "    ('Vishakhapatnam', 'C1'): 2.0,\n",
    "    ('Ahmedabad', 'C2'): 1.5,\n",
    "    ('Ahmedabad', 'C3'): 0.5,\n",
    "    ('Ahmedabad', 'C5'): 1.5,\n",
    "    ('Ahmedabad', 'C6'): 1.0,\n",
    "    ('Kolkata', 'C1'): 1.0,\n",
    "    ('Kolkata', 'C2'): 0.5,\n",
    "    ('Kolkata', 'C3'): 0.5,\n",
    "    ('Kolkata', 'C4'): 1.0,\n",
    "    ('Kolkata', 'C5'): 0.5,\n",
    "    ('Coimbatore', 'C2'): 1.5,\n",
    "    ('Coimbatore', 'C3'): 2.0,\n",
    "    ('Coimbatore', 'C5'): 0.5,\n",
    "    ('Coimbatore', 'C6'): 1.5,\n",
    "    ('Nagpur', 'C3'): 0.2,\n",
    "    ('Nagpur', 'C4'): 1.5,\n",
    "    ('Nagpur', 'C5'): 0.5,\n",
    "    ('Nagpur', 'C6'): 1.5\n",
    "})"
   ]
  },
  {
   "cell_type": "code",
   "execution_count": 19,
   "metadata": {
    "scrolled": true
   },
   "outputs": [
    {
     "data": {
      "text/plain": [
       "{('NewDelhi', 'Ahmedabad'): <gurobi.Var *Awaiting Model Update*>,\n",
       " ('NewDelhi', 'Kolkata'): <gurobi.Var *Awaiting Model Update*>,\n",
       " ('NewDelhi', 'Coimbatore'): <gurobi.Var *Awaiting Model Update*>,\n",
       " ('NewDelhi', 'Nagpur'): <gurobi.Var *Awaiting Model Update*>,\n",
       " ('NewDelhi', 'C1'): <gurobi.Var *Awaiting Model Update*>,\n",
       " ('NewDelhi', 'C3'): <gurobi.Var *Awaiting Model Update*>,\n",
       " ('NewDelhi', 'C4'): <gurobi.Var *Awaiting Model Update*>,\n",
       " ('NewDelhi', 'C6'): <gurobi.Var *Awaiting Model Update*>,\n",
       " ('Vishakhapatnam', 'Kolkata'): <gurobi.Var *Awaiting Model Update*>,\n",
       " ('Vishakhapatnam', 'Coimbatore'): <gurobi.Var *Awaiting Model Update*>,\n",
       " ('Vishakhapatnam', 'Nagpur'): <gurobi.Var *Awaiting Model Update*>,\n",
       " ('Vishakhapatnam', 'C1'): <gurobi.Var *Awaiting Model Update*>,\n",
       " ('Ahmedabad', 'C2'): <gurobi.Var *Awaiting Model Update*>,\n",
       " ('Ahmedabad', 'C3'): <gurobi.Var *Awaiting Model Update*>,\n",
       " ('Ahmedabad', 'C5'): <gurobi.Var *Awaiting Model Update*>,\n",
       " ('Ahmedabad', 'C6'): <gurobi.Var *Awaiting Model Update*>,\n",
       " ('Kolkata', 'C1'): <gurobi.Var *Awaiting Model Update*>,\n",
       " ('Kolkata', 'C2'): <gurobi.Var *Awaiting Model Update*>,\n",
       " ('Kolkata', 'C3'): <gurobi.Var *Awaiting Model Update*>,\n",
       " ('Kolkata', 'C4'): <gurobi.Var *Awaiting Model Update*>,\n",
       " ('Kolkata', 'C5'): <gurobi.Var *Awaiting Model Update*>,\n",
       " ('Coimbatore', 'C2'): <gurobi.Var *Awaiting Model Update*>,\n",
       " ('Coimbatore', 'C3'): <gurobi.Var *Awaiting Model Update*>,\n",
       " ('Coimbatore', 'C5'): <gurobi.Var *Awaiting Model Update*>,\n",
       " ('Coimbatore', 'C6'): <gurobi.Var *Awaiting Model Update*>,\n",
       " ('Nagpur', 'C3'): <gurobi.Var *Awaiting Model Update*>,\n",
       " ('Nagpur', 'C4'): <gurobi.Var *Awaiting Model Update*>,\n",
       " ('Nagpur', 'C5'): <gurobi.Var *Awaiting Model Update*>,\n",
       " ('Nagpur', 'C6'): <gurobi.Var *Awaiting Model Update*>}"
      ]
     },
     "execution_count": 19,
     "metadata": {},
     "output_type": "execute_result"
    }
   ],
   "source": [
    "model = gp.Model('SupplyNetworkDesign')\n",
    "flow = model.addVars(arcs, obj=cost, name=\"flow\")\n",
    "flow"
   ]
  },
  {
   "cell_type": "code",
   "execution_count": 7,
   "metadata": {
    "scrolled": true
   },
   "outputs": [
    {
     "data": {
      "text/plain": [
       "{'Liverpool': <gurobi.Constr *Awaiting Model Update*>,\n",
       " 'Brighton': <gurobi.Constr *Awaiting Model Update*>}"
      ]
     },
     "execution_count": 7,
     "metadata": {},
     "output_type": "execute_result"
    }
   ],
   "source": [
    "# Production capacity limits\n",
    "factories = supply.keys()\n",
    "factory_flow = model.addConstrs((gp.quicksum(flow.select(factory, '*')) <= supply[factory]\n",
    "                                 for factory in factories), name=\"factory\")\n",
    "factory_flow"
   ]
  },
  {
   "cell_type": "code",
   "execution_count": 13,
   "metadata": {},
   "outputs": [],
   "source": [
    "# Distributor demand\n",
    "distributors = demand.keys()\n",
    "distributor_flow = model.addConstrs((gp.quicksum(flow.select('*', distributor)) == demand[distributor]\n",
    "                                  for distributor in distributors), name=\"distributor\")"
   ]
  },
  {
   "cell_type": "code",
   "execution_count": 14,
   "metadata": {},
   "outputs": [],
   "source": [
    "# Depot flow conservation\n",
    "depots = through.keys()\n",
    "depot_flow = model.addConstrs((gp.quicksum(flow.select(depot, '*')) == gp.quicksum(flow.select('*', depot))\n",
    "                               for depot in depots), name=\"depot\")"
   ]
  },
  {
   "cell_type": "code",
   "execution_count": 15,
   "metadata": {},
   "outputs": [],
   "source": [
    "# Depot throughput\n",
    "depot_capacity = model.addConstrs((gp.quicksum(flow.select('*', depot)) <= through[depot]\n",
    "                                   for depot in depots), name=\"depot_capacity\")"
   ]
  },
  {
   "cell_type": "code",
   "execution_count": 16,
   "metadata": {},
   "outputs": [
    {
     "name": "stdout",
     "output_type": "stream",
     "text": [
      "Gurobi Optimizer version 9.1.1 build v9.1.1rc0 (win64)\n",
      "Thread count: 2 physical cores, 4 logical processors, using up to 4 threads\n",
      "Optimize a model with 16 rows, 29 columns and 65 nonzeros\n",
      "Model fingerprint: 0x3607c855\n",
      "Coefficient statistics:\n",
      "  Matrix range     [1e+00, 1e+00]\n",
      "  Objective range  [2e-01, 2e+00]\n",
      "  Bounds range     [0e+00, 0e+00]\n",
      "  RHS range        [1e+04, 2e+05]\n",
      "Presolve removed 1 rows and 0 columns\n",
      "Presolve time: 0.02s\n",
      "Presolved: 15 rows, 29 columns, 64 nonzeros\n",
      "\n",
      "Iteration    Objective       Primal Inf.    Dual Inf.      Time\n",
      "       0    1.4800000e+05   1.812500e+04   0.000000e+00      0s\n",
      "       7    1.9850000e+05   0.000000e+00   0.000000e+00      0s\n",
      "\n",
      "Solved in 7 iterations and 0.03 seconds\n",
      "Optimal objective  1.985000000e+05\n"
     ]
    }
   ],
   "source": [
    "model.optimize()"
   ]
  },
  {
   "cell_type": "code",
   "execution_count": 17,
   "metadata": {},
   "outputs": [
    {
     "data": {
      "text/html": [
       "<div>\n",
       "<style scoped>\n",
       "    .dataframe tbody tr th:only-of-type {\n",
       "        vertical-align: middle;\n",
       "    }\n",
       "\n",
       "    .dataframe tbody tr th {\n",
       "        vertical-align: top;\n",
       "    }\n",
       "\n",
       "    .dataframe thead th {\n",
       "        text-align: right;\n",
       "    }\n",
       "</style>\n",
       "<table border=\"1\" class=\"dataframe\">\n",
       "  <thead>\n",
       "    <tr style=\"text-align: right;\">\n",
       "      <th></th>\n",
       "      <th>From</th>\n",
       "      <th>To</th>\n",
       "      <th>Flow</th>\n",
       "    </tr>\n",
       "  </thead>\n",
       "  <tbody>\n",
       "    <tr>\n",
       "      <th></th>\n",
       "      <td>Liverpool</td>\n",
       "      <td>C1</td>\n",
       "      <td>50000.0</td>\n",
       "    </tr>\n",
       "    <tr>\n",
       "      <th></th>\n",
       "      <td>Liverpool</td>\n",
       "      <td>C6</td>\n",
       "      <td>20000.0</td>\n",
       "    </tr>\n",
       "    <tr>\n",
       "      <th></th>\n",
       "      <td>Brighton</td>\n",
       "      <td>Birmingham</td>\n",
       "      <td>50000.0</td>\n",
       "    </tr>\n",
       "    <tr>\n",
       "      <th></th>\n",
       "      <td>Brighton</td>\n",
       "      <td>London</td>\n",
       "      <td>55000.0</td>\n",
       "    </tr>\n",
       "    <tr>\n",
       "      <th></th>\n",
       "      <td>Brighton</td>\n",
       "      <td>Exeter</td>\n",
       "      <td>40000.0</td>\n",
       "    </tr>\n",
       "    <tr>\n",
       "      <th></th>\n",
       "      <td>Birmingham</td>\n",
       "      <td>C2</td>\n",
       "      <td>10000.0</td>\n",
       "    </tr>\n",
       "    <tr>\n",
       "      <th></th>\n",
       "      <td>Birmingham</td>\n",
       "      <td>C4</td>\n",
       "      <td>35000.0</td>\n",
       "    </tr>\n",
       "    <tr>\n",
       "      <th></th>\n",
       "      <td>Birmingham</td>\n",
       "      <td>C5</td>\n",
       "      <td>5000.0</td>\n",
       "    </tr>\n",
       "    <tr>\n",
       "      <th></th>\n",
       "      <td>London</td>\n",
       "      <td>C5</td>\n",
       "      <td>55000.0</td>\n",
       "    </tr>\n",
       "    <tr>\n",
       "      <th></th>\n",
       "      <td>Exeter</td>\n",
       "      <td>C3</td>\n",
       "      <td>40000.0</td>\n",
       "    </tr>\n",
       "  </tbody>\n",
       "</table>\n",
       "</div>"
      ],
      "text/plain": [
       "        From          To     Flow\n",
       "   Liverpool          C1  50000.0\n",
       "   Liverpool          C6  20000.0\n",
       "    Brighton  Birmingham  50000.0\n",
       "    Brighton      London  55000.0\n",
       "    Brighton      Exeter  40000.0\n",
       "  Birmingham          C2  10000.0\n",
       "  Birmingham          C4  35000.0\n",
       "  Birmingham          C5   5000.0\n",
       "      London          C5  55000.0\n",
       "      Exeter          C3  40000.0"
      ]
     },
     "execution_count": 17,
     "metadata": {},
     "output_type": "execute_result"
    }
   ],
   "source": [
    "product_flow = pd.DataFrame(columns=[\"From\", \"To\", \"Flow\"])\n",
    "for arc in arcs:\n",
    "    if flow[arc].x > 1e-6:\n",
    "        product_flow = product_flow.append({\"From\": arc[0], \"To\": arc[1], \"Flow\": flow[arc].x}, ignore_index=True)  \n",
    "product_flow.index=[''] * len(product_flow)\n",
    "product_flow"
   ]
  },
  {
   "cell_type": "code",
   "execution_count": null,
   "metadata": {},
   "outputs": [],
   "source": []
  }
 ],
 "metadata": {
  "kernelspec": {
   "display_name": "Python 3",
   "language": "python",
   "name": "python3"
  },
  "language_info": {
   "codemirror_mode": {
    "name": "ipython",
    "version": 3
   },
   "file_extension": ".py",
   "mimetype": "text/x-python",
   "name": "python",
   "nbconvert_exporter": "python",
   "pygments_lexer": "ipython3",
   "version": "3.7.9"
  }
 },
 "nbformat": 4,
 "nbformat_minor": 4
}
