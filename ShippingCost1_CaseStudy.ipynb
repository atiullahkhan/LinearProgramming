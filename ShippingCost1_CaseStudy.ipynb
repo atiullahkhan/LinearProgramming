{
 "cells": [
  {
   "cell_type": "markdown",
   "metadata": {},
   "source": [
    "### Problem Description\n",
    "In this problem, we have six end distributors, each with a known demand for a product. Distributor demand can be satisfied from a set of four depots, or directly from a set of two factories. Each depot can support a maximum volume of product moving through it, and each factory can produce a maximum amount of product. There are known costs associated with transporting the product, from a factory to a depot, from a depot to a distributor, or from a factory directly to a distributor.\n",
    "\n",
    "**Sets**\n",
    "- Factories = {NewDelhi, Vishakhapatnam}\n",
    "- Depots = {Ahmedabad, Kolkata, Coimbatore, Nagpur}\n",
    "- Distributors = {C1, C2, C3, C4, C5, C6}\n",
    "- Cities = Factories ∪ Depots ∪ Distributors\n",
    "\n",
    "**Parameters**\n",
    "- cost: Cost of shipping one ton from source  s  to destination  t.\n",
    "- supply: Maximum possible supply from factory  f  (in tons).\n",
    "- throughput: Maximum possible flow through depot  d  (in tons).\n",
    "- demand: Demand for goods at distributor  c  (in tons).\n",
    "\n",
    "**Decision Variables**\n",
    "- flow: Quantity of goods (in tons) that is shipped from source  s  to destionation  t.\n",
    "\n",
    "**Objective Function**\n",
    "- Cost: Minimize total shipping costs.\n",
    "**Minimize = cost ∗ flow**\n",
    " \n",
    "**Constraints**\n",
    "Factory output: Flow of goods from a factory must respect maximum capacity.\n",
    "- flow ≤ supply\n",
    " \n",
    "Distributor demand: Flow of goods must meet distributor demand.\n",
    "- flow = demand\n",
    " \n",
    "Depot flow: Flow into a depot equals flow out of the depot.\n",
    "- flow = flow (from source to depot and depot to destination)\n",
    " \n",
    "Depot capacity: Flow into a depot must respect depot capacity.\n",
    "- flow ≤ throughput"
   ]
  },
  {
   "cell_type": "code",
   "execution_count": 1,
   "metadata": {},
   "outputs": [],
   "source": [
    "from pulp import *\n",
    "import pandas as pd"
   ]
  },
  {
   "cell_type": "code",
   "execution_count": 2,
   "metadata": {},
   "outputs": [],
   "source": [
    "# Create dictionaries to capture factory supply limits, depot throughput limits, and distributor demand.\n",
    "supply = dict({'NewDelhi': 150000,\n",
    "               'Vishakhapatnam': 200000})\n",
    "\n",
    "throughput = dict({'Ahmedabad': 70000,\n",
    "                   'Kolkata': 50000,\n",
    "                   'Coimbatore': 100000,\n",
    "                   'Nagpur': 40000})\n",
    "\n",
    "demand = dict({'C1': 50000,\n",
    "               'C2': 10000,\n",
    "               'C3': 40000,\n",
    "               'C4': 35000,\n",
    "               'C5': 60000,\n",
    "               'C6': 20000})"
   ]
  },
  {
   "cell_type": "code",
   "execution_count": 3,
   "metadata": {
    "scrolled": true
   },
   "outputs": [
    {
     "data": {
      "text/plain": [
       "{'NewDelhi': {'Ahmedabad': 0.5,\n",
       "  'Kolkata': 0.5,\n",
       "  'Coimbatore': 1.0,\n",
       "  'Nagpur': 0.2,\n",
       "  'C1': 1.0,\n",
       "  'C3': 1.5,\n",
       "  'C4': 2.0,\n",
       "  'C6': 1.0},\n",
       " 'Vishakhapatnam': {'Kolkata': 0.3,\n",
       "  'Coimbatore': 0.5,\n",
       "  'Nagpur': 0.2,\n",
       "  'C1': 2.0},\n",
       " 'Ahmedabad': {'C2': 1.5, 'C3': 0.5, 'C5': 1.5, 'C6': 1.0},\n",
       " 'Kolkata': {'C1': 1.0, 'C2': 0.5, 'C3': 0.5, 'C4': 1.0, 'C5': 0.5},\n",
       " 'Coimbatore': {'C2': 1.5, 'C3': 2.0, 'C5': 0.5, 'C6': 1.5},\n",
       " 'Nagpur': {'C3': 0.2, 'C4': 1.5, 'C5': 0.5, 'C6': 1.5}}"
      ]
     },
     "execution_count": 3,
     "metadata": {},
     "output_type": "execute_result"
    }
   ],
   "source": [
    "# Create a dictionary to capture shipping costs.\n",
    "cost = dict({'NewDelhi': {'Ahmedabad' : 0.5, 'Kolkata': 0.5, 'Coimbatore': 1.0, 'Nagpur': 0.2, 'C1': 1.0, 'C3': 1.5,\n",
    "                          'C4': 2.0, 'C6': 1.0},\n",
    "             'Vishakhapatnam': {'Kolkata': 0.3, 'Coimbatore': 0.5, 'Nagpur': 0.2, 'C1': 2.0},\n",
    "             'Ahmedabad': {'C2': 1.5, 'C3': 0.5, 'C5': 1.5, 'C6': 1.0},\n",
    "             'Kolkata': {'C1': 1.0, 'C2': 0.5, 'C3': 0.5, 'C4': 1.0, 'C5': 0.5},\n",
    "             'Coimbatore': {'C2': 1.5, 'C3': 2.0, 'C5': 0.5, 'C6': 1.5},\n",
    "             'Nagpur': {'C3': 0.2, 'C4': 1.5, 'C5': 0.5, 'C6': 1.5}})\n",
    "cost"
   ]
  },
  {
   "cell_type": "code",
   "execution_count": 4,
   "metadata": {
    "scrolled": true
   },
   "outputs": [
    {
     "data": {
      "text/plain": [
       "[('NewDelhi', 'Ahmedabad'),\n",
       " ('NewDelhi', 'Kolkata'),\n",
       " ('NewDelhi', 'Coimbatore'),\n",
       " ('NewDelhi', 'Nagpur'),\n",
       " ('NewDelhi', 'C1'),\n",
       " ('NewDelhi', 'C3'),\n",
       " ('NewDelhi', 'C4'),\n",
       " ('NewDelhi', 'C6'),\n",
       " ('Vishakhapatnam', 'Kolkata'),\n",
       " ('Vishakhapatnam', 'Coimbatore'),\n",
       " ('Vishakhapatnam', 'Nagpur'),\n",
       " ('Vishakhapatnam', 'C1'),\n",
       " ('Ahmedabad', 'C2'),\n",
       " ('Ahmedabad', 'C3'),\n",
       " ('Ahmedabad', 'C5'),\n",
       " ('Ahmedabad', 'C6'),\n",
       " ('Kolkata', 'C1'),\n",
       " ('Kolkata', 'C2'),\n",
       " ('Kolkata', 'C3'),\n",
       " ('Kolkata', 'C4'),\n",
       " ('Kolkata', 'C5'),\n",
       " ('Coimbatore', 'C2'),\n",
       " ('Coimbatore', 'C3'),\n",
       " ('Coimbatore', 'C5'),\n",
       " ('Coimbatore', 'C6'),\n",
       " ('Nagpur', 'C3'),\n",
       " ('Nagpur', 'C4'),\n",
       " ('Nagpur', 'C5'),\n",
       " ('Nagpur', 'C6')]"
      ]
     },
     "execution_count": 4,
     "metadata": {},
     "output_type": "execute_result"
    }
   ],
   "source": [
    "sources = []\n",
    "destinations = []\n",
    "for i in cost.keys():\n",
    "    for j in cost[i]:\n",
    "        sources.append(i)\n",
    "        destinations.append(j)\n",
    "possibleFlows = list(zip(sources, destinations))\n",
    "possibleFlows"
   ]
  },
  {
   "cell_type": "code",
   "execution_count": 5,
   "metadata": {},
   "outputs": [],
   "source": [
    "# Model Definition\n",
    "model = LpProblem(\"Shipping_Cost_Optimization\", LpMinimize)"
   ]
  },
  {
   "cell_type": "code",
   "execution_count": 6,
   "metadata": {},
   "outputs": [
    {
     "data": {
      "text/plain": [
       "(dict_keys(['NewDelhi', 'Vishakhapatnam']),\n",
       " dict_keys(['Ahmedabad', 'Kolkata', 'Coimbatore', 'Nagpur']),\n",
       " dict_keys(['C1', 'C2', 'C3', 'C4', 'C5', 'C6']))"
      ]
     },
     "execution_count": 6,
     "metadata": {},
     "output_type": "execute_result"
    }
   ],
   "source": [
    "plant, depot, distributor = supply.keys(), throughput.keys(), demand.keys()\n",
    "plant, depot, distributor"
   ]
  },
  {
   "cell_type": "code",
   "execution_count": 8,
   "metadata": {
    "scrolled": true
   },
   "outputs": [
    {
     "data": {
      "text/plain": [
       "{'NewDelhi_Ahmedabad': Flow_NewDelhi_Ahmedabad,\n",
       " 'NewDelhi_Kolkata': Flow_NewDelhi_Kolkata,\n",
       " 'NewDelhi_Coimbatore': Flow_NewDelhi_Coimbatore,\n",
       " 'NewDelhi_Nagpur': Flow_NewDelhi_Nagpur,\n",
       " 'NewDelhi_C1': Flow_NewDelhi_C1,\n",
       " 'NewDelhi_C3': Flow_NewDelhi_C3,\n",
       " 'NewDelhi_C4': Flow_NewDelhi_C4,\n",
       " 'NewDelhi_C6': Flow_NewDelhi_C6,\n",
       " 'Vishakhapatnam_Kolkata': Flow_Vishakhapatnam_Kolkata,\n",
       " 'Vishakhapatnam_Coimbatore': Flow_Vishakhapatnam_Coimbatore,\n",
       " 'Vishakhapatnam_Nagpur': Flow_Vishakhapatnam_Nagpur,\n",
       " 'Vishakhapatnam_C1': Flow_Vishakhapatnam_C1,\n",
       " 'Ahmedabad_C2': Flow_Ahmedabad_C2,\n",
       " 'Ahmedabad_C3': Flow_Ahmedabad_C3,\n",
       " 'Ahmedabad_C5': Flow_Ahmedabad_C5,\n",
       " 'Ahmedabad_C6': Flow_Ahmedabad_C6,\n",
       " 'Kolkata_C1': Flow_Kolkata_C1,\n",
       " 'Kolkata_C2': Flow_Kolkata_C2,\n",
       " 'Kolkata_C3': Flow_Kolkata_C3,\n",
       " 'Kolkata_C4': Flow_Kolkata_C4,\n",
       " 'Kolkata_C5': Flow_Kolkata_C5,\n",
       " 'Coimbatore_C2': Flow_Coimbatore_C2,\n",
       " 'Coimbatore_C3': Flow_Coimbatore_C3,\n",
       " 'Coimbatore_C5': Flow_Coimbatore_C5,\n",
       " 'Coimbatore_C6': Flow_Coimbatore_C6,\n",
       " 'Nagpur_C3': Flow_Nagpur_C3,\n",
       " 'Nagpur_C4': Flow_Nagpur_C4,\n",
       " 'Nagpur_C5': Flow_Nagpur_C5,\n",
       " 'Nagpur_C6': Flow_Nagpur_C6}"
      ]
     },
     "execution_count": 8,
     "metadata": {},
     "output_type": "execute_result"
    }
   ],
   "source": [
    "# Decision Variable\n",
    "flowVar = LpVariable.dicts(name = 'Flow', \n",
    "                           indexs = [(src+'_'+dest) for src in cost.keys() for dest in cost[src]], \n",
    "                           lowBound = 0, cat = LpContinuous)\n",
    "flowVar"
   ]
  },
  {
   "cell_type": "code",
   "execution_count": 9,
   "metadata": {
    "scrolled": true
   },
   "outputs": [],
   "source": [
    "# Factory Output constraint\n",
    "for src in plant:\n",
    "    model.addConstraint(LpConstraint(e = lpSum(flowVar[src+'_'+dest] for dest in cost[src]),\n",
    "                                     sense = LpConstraintLE,\n",
    "                                     name = 'Factory_Capacity_From_' + src,\n",
    "                                     rhs = supply[src]))"
   ]
  },
  {
   "cell_type": "code",
   "execution_count": 10,
   "metadata": {
    "scrolled": true
   },
   "outputs": [],
   "source": [
    "# Customer Demand constraint\n",
    "for dest in distributor:\n",
    "    model.addConstraint(LpConstraint(\n",
    "        e = lpSum(flowVar[possibleFlows[i][0] + '_' + possibleFlows[i][1]] for i in range(0, len(possibleFlows)) if possibleFlows[i][1] == dest),\n",
    "        sense = LpConstraintEQ,\n",
    "        name = 'Customer_Demand_At_' + dest,\n",
    "        rhs = demand[dest]))"
   ]
  },
  {
   "cell_type": "code",
   "execution_count": 11,
   "metadata": {
    "scrolled": true
   },
   "outputs": [],
   "source": [
    "# Depot throughput constraint\n",
    "for src in depot:\n",
    "    model.addConstraint(LpConstraint(e = lpSum(flowVar[src+'_'+dest] for dest in cost[src]),\n",
    "                                     sense = LpConstraintLE,\n",
    "                                     name = 'Depot_Capacity_From_' + src,\n",
    "                                     rhs = throughput[src]))"
   ]
  },
  {
   "cell_type": "code",
   "execution_count": 12,
   "metadata": {},
   "outputs": [],
   "source": [
    "# Depot capacity constraint\n",
    "for src in depot:\n",
    "    model.addConstraint(LpConstraint(\n",
    "        e = lpSum(flowVar[possibleFlows[i][0] + '_' + possibleFlows[i][1]] for i in range(0, len(possibleFlows)) if possibleFlows[i][1] == src) - \n",
    "        lpSum(flowVar[src + '_' + dest] for dest in cost[src]),\n",
    "        sense = LpConstraintEQ,\n",
    "        name = 'Depot_Throughput_At_' + src,\n",
    "        rhs = 0))"
   ]
  },
  {
   "cell_type": "code",
   "execution_count": 14,
   "metadata": {
    "scrolled": true
   },
   "outputs": [
    {
     "data": {
      "text/plain": [
       "Shipping_Cost_Optimization:\n",
       "MINIMIZE\n",
       "1.5*Flow_Ahmedabad_C2 + 0.5*Flow_Ahmedabad_C3 + 1.5*Flow_Ahmedabad_C5 + 1.0*Flow_Ahmedabad_C6 + 1.5*Flow_Coimbatore_C2 + 2.0*Flow_Coimbatore_C3 + 0.5*Flow_Coimbatore_C5 + 1.5*Flow_Coimbatore_C6 + 1.0*Flow_Kolkata_C1 + 0.5*Flow_Kolkata_C2 + 0.5*Flow_Kolkata_C3 + 1.0*Flow_Kolkata_C4 + 0.5*Flow_Kolkata_C5 + 0.2*Flow_Nagpur_C3 + 1.5*Flow_Nagpur_C4 + 0.5*Flow_Nagpur_C5 + 1.5*Flow_Nagpur_C6 + 0.5*Flow_NewDelhi_Ahmedabad + 1.0*Flow_NewDelhi_C1 + 1.5*Flow_NewDelhi_C3 + 2.0*Flow_NewDelhi_C4 + 1.0*Flow_NewDelhi_C6 + 1.0*Flow_NewDelhi_Coimbatore + 0.5*Flow_NewDelhi_Kolkata + 0.2*Flow_NewDelhi_Nagpur + 2.0*Flow_Vishakhapatnam_C1 + 0.5*Flow_Vishakhapatnam_Coimbatore + 0.3*Flow_Vishakhapatnam_Kolkata + 0.2*Flow_Vishakhapatnam_Nagpur + 0.0\n",
       "SUBJECT TO\n",
       "Factory_Capacity_From_NewDelhi: Flow_NewDelhi_Ahmedabad + Flow_NewDelhi_C1\n",
       " + Flow_NewDelhi_C3 + Flow_NewDelhi_C4 + Flow_NewDelhi_C6\n",
       " + Flow_NewDelhi_Coimbatore + Flow_NewDelhi_Kolkata + Flow_NewDelhi_Nagpur\n",
       " <= 150000\n",
       "\n",
       "Factory_Capacity_From_Vishakhapatnam: Flow_Vishakhapatnam_C1\n",
       " + Flow_Vishakhapatnam_Coimbatore + Flow_Vishakhapatnam_Kolkata\n",
       " + Flow_Vishakhapatnam_Nagpur <= 200000\n",
       "\n",
       "Customer_Demand_At_C1: Flow_Kolkata_C1 + Flow_NewDelhi_C1\n",
       " + Flow_Vishakhapatnam_C1 = 50000\n",
       "\n",
       "Customer_Demand_At_C2: Flow_Ahmedabad_C2 + Flow_Coimbatore_C2\n",
       " + Flow_Kolkata_C2 = 10000\n",
       "\n",
       "Customer_Demand_At_C3: Flow_Ahmedabad_C3 + Flow_Coimbatore_C3\n",
       " + Flow_Kolkata_C3 + Flow_Nagpur_C3 + Flow_NewDelhi_C3 = 40000\n",
       "\n",
       "Customer_Demand_At_C4: Flow_Kolkata_C4 + Flow_Nagpur_C4 + Flow_NewDelhi_C4\n",
       " = 35000\n",
       "\n",
       "Customer_Demand_At_C5: Flow_Ahmedabad_C5 + Flow_Coimbatore_C5\n",
       " + Flow_Kolkata_C5 + Flow_Nagpur_C5 = 60000\n",
       "\n",
       "Customer_Demand_At_C6: Flow_Ahmedabad_C6 + Flow_Coimbatore_C6 + Flow_Nagpur_C6\n",
       " + Flow_NewDelhi_C6 = 20000\n",
       "\n",
       "Depot_Capacity_From_Ahmedabad: Flow_Ahmedabad_C2 + Flow_Ahmedabad_C3\n",
       " + Flow_Ahmedabad_C5 + Flow_Ahmedabad_C6 <= 70000\n",
       "\n",
       "Depot_Capacity_From_Kolkata: Flow_Kolkata_C1 + Flow_Kolkata_C2\n",
       " + Flow_Kolkata_C3 + Flow_Kolkata_C4 + Flow_Kolkata_C5 <= 50000\n",
       "\n",
       "Depot_Capacity_From_Coimbatore: Flow_Coimbatore_C2 + Flow_Coimbatore_C3\n",
       " + Flow_Coimbatore_C5 + Flow_Coimbatore_C6 <= 100000\n",
       "\n",
       "Depot_Capacity_From_Nagpur: Flow_Nagpur_C3 + Flow_Nagpur_C4 + Flow_Nagpur_C5\n",
       " + Flow_Nagpur_C6 <= 40000\n",
       "\n",
       "Depot_Throughput_At_Ahmedabad: - Flow_Ahmedabad_C2 - Flow_Ahmedabad_C3\n",
       " - Flow_Ahmedabad_C5 - Flow_Ahmedabad_C6 + Flow_NewDelhi_Ahmedabad = 0\n",
       "\n",
       "Depot_Throughput_At_Kolkata: - Flow_Kolkata_C1 - Flow_Kolkata_C2\n",
       " - Flow_Kolkata_C3 - Flow_Kolkata_C4 - Flow_Kolkata_C5 + Flow_NewDelhi_Kolkata\n",
       " + Flow_Vishakhapatnam_Kolkata = 0\n",
       "\n",
       "Depot_Throughput_At_Coimbatore: - Flow_Coimbatore_C2 - Flow_Coimbatore_C3\n",
       " - Flow_Coimbatore_C5 - Flow_Coimbatore_C6 + Flow_NewDelhi_Coimbatore\n",
       " + Flow_Vishakhapatnam_Coimbatore = 0\n",
       "\n",
       "Depot_Throughput_At_Nagpur: - Flow_Nagpur_C3 - Flow_Nagpur_C4 - Flow_Nagpur_C5\n",
       " - Flow_Nagpur_C6 + Flow_NewDelhi_Nagpur + Flow_Vishakhapatnam_Nagpur = 0\n",
       "\n",
       "VARIABLES\n",
       "Flow_Ahmedabad_C2 Continuous\n",
       "Flow_Ahmedabad_C3 Continuous\n",
       "Flow_Ahmedabad_C5 Continuous\n",
       "Flow_Ahmedabad_C6 Continuous\n",
       "Flow_Coimbatore_C2 Continuous\n",
       "Flow_Coimbatore_C3 Continuous\n",
       "Flow_Coimbatore_C5 Continuous\n",
       "Flow_Coimbatore_C6 Continuous\n",
       "Flow_Kolkata_C1 Continuous\n",
       "Flow_Kolkata_C2 Continuous\n",
       "Flow_Kolkata_C3 Continuous\n",
       "Flow_Kolkata_C4 Continuous\n",
       "Flow_Kolkata_C5 Continuous\n",
       "Flow_Nagpur_C3 Continuous\n",
       "Flow_Nagpur_C4 Continuous\n",
       "Flow_Nagpur_C5 Continuous\n",
       "Flow_Nagpur_C6 Continuous\n",
       "Flow_NewDelhi_Ahmedabad Continuous\n",
       "Flow_NewDelhi_C1 Continuous\n",
       "Flow_NewDelhi_C3 Continuous\n",
       "Flow_NewDelhi_C4 Continuous\n",
       "Flow_NewDelhi_C6 Continuous\n",
       "Flow_NewDelhi_Coimbatore Continuous\n",
       "Flow_NewDelhi_Kolkata Continuous\n",
       "Flow_NewDelhi_Nagpur Continuous\n",
       "Flow_Vishakhapatnam_C1 Continuous\n",
       "Flow_Vishakhapatnam_Coimbatore Continuous\n",
       "Flow_Vishakhapatnam_Kolkata Continuous\n",
       "Flow_Vishakhapatnam_Nagpur Continuous"
      ]
     },
     "execution_count": 14,
     "metadata": {},
     "output_type": "execute_result"
    }
   ],
   "source": [
    "# Model Objective\n",
    "objective = lpSum(lpSum(cost[src][dest] * flowVar[src + '_' + dest] for dest in cost[src]) for src in cost.keys())\n",
    "objective\n",
    "model.setObjective(objective)\n",
    "model"
   ]
  },
  {
   "cell_type": "code",
   "execution_count": 15,
   "metadata": {},
   "outputs": [
    {
     "name": "stdout",
     "output_type": "stream",
     "text": [
      "Model Status =  Optimal\n"
     ]
    }
   ],
   "source": [
    "model.solve()\n",
    "print(\"Model Status = \", LpStatus[model.status])"
   ]
  },
  {
   "cell_type": "code",
   "execution_count": 18,
   "metadata": {},
   "outputs": [
    {
     "name": "stdout",
     "output_type": "stream",
     "text": [
      "Product demand from all of our customers can be satisfied for a total cost of  198500.0\n"
     ]
    }
   ],
   "source": [
    "# Each of the variables is printed with it's resolved optimum value\n",
    "df = pd.DataFrame()\n",
    "variableName = []\n",
    "variableValue = []\n",
    "for v in model.variables():\n",
    "#     print(v.name, \"=\", v.varValue)\n",
    "    variableName.append(v.name)\n",
    "    variableValue.append(v.varValue)\n",
    "\n",
    "df['Variables'] = variableName\n",
    "df['Variable_Values'] = variableValue\n",
    "# The optimised objective function value is printed to the screen    \n",
    "print(\"Product demand from all of our customers can be satisfied for a total cost of \", value(model.objective))"
   ]
  },
  {
   "cell_type": "code",
   "execution_count": 19,
   "metadata": {},
   "outputs": [
    {
     "name": "stdout",
     "output_type": "stream",
     "text": [
      "The optimal plan is as follows:\n"
     ]
    },
    {
     "data": {
      "text/html": [
       "<div>\n",
       "<style scoped>\n",
       "    .dataframe tbody tr th:only-of-type {\n",
       "        vertical-align: middle;\n",
       "    }\n",
       "\n",
       "    .dataframe tbody tr th {\n",
       "        vertical-align: top;\n",
       "    }\n",
       "\n",
       "    .dataframe thead th {\n",
       "        text-align: right;\n",
       "    }\n",
       "</style>\n",
       "<table border=\"1\" class=\"dataframe\">\n",
       "  <thead>\n",
       "    <tr style=\"text-align: right;\">\n",
       "      <th></th>\n",
       "      <th>Variables</th>\n",
       "      <th>Variable_Values</th>\n",
       "    </tr>\n",
       "  </thead>\n",
       "  <tbody>\n",
       "    <tr>\n",
       "      <th>0</th>\n",
       "      <td>Flow_Coimbatore_C5</td>\n",
       "      <td>55000.0</td>\n",
       "    </tr>\n",
       "    <tr>\n",
       "      <th>1</th>\n",
       "      <td>Flow_Kolkata_C2</td>\n",
       "      <td>10000.0</td>\n",
       "    </tr>\n",
       "    <tr>\n",
       "      <th>2</th>\n",
       "      <td>Flow_Kolkata_C4</td>\n",
       "      <td>35000.0</td>\n",
       "    </tr>\n",
       "    <tr>\n",
       "      <th>3</th>\n",
       "      <td>Flow_Kolkata_C5</td>\n",
       "      <td>5000.0</td>\n",
       "    </tr>\n",
       "    <tr>\n",
       "      <th>4</th>\n",
       "      <td>Flow_Nagpur_C3</td>\n",
       "      <td>40000.0</td>\n",
       "    </tr>\n",
       "    <tr>\n",
       "      <th>5</th>\n",
       "      <td>Flow_NewDelhi_C1</td>\n",
       "      <td>50000.0</td>\n",
       "    </tr>\n",
       "    <tr>\n",
       "      <th>6</th>\n",
       "      <td>Flow_NewDelhi_C6</td>\n",
       "      <td>20000.0</td>\n",
       "    </tr>\n",
       "    <tr>\n",
       "      <th>7</th>\n",
       "      <td>Flow_NewDelhi_Nagpur</td>\n",
       "      <td>40000.0</td>\n",
       "    </tr>\n",
       "    <tr>\n",
       "      <th>8</th>\n",
       "      <td>Flow_Vishakhapatnam_Coimbatore</td>\n",
       "      <td>55000.0</td>\n",
       "    </tr>\n",
       "    <tr>\n",
       "      <th>9</th>\n",
       "      <td>Flow_Vishakhapatnam_Kolkata</td>\n",
       "      <td>50000.0</td>\n",
       "    </tr>\n",
       "  </tbody>\n",
       "</table>\n",
       "</div>"
      ],
      "text/plain": [
       "                        Variables  Variable_Values\n",
       "0              Flow_Coimbatore_C5          55000.0\n",
       "1                 Flow_Kolkata_C2          10000.0\n",
       "2                 Flow_Kolkata_C4          35000.0\n",
       "3                 Flow_Kolkata_C5           5000.0\n",
       "4                  Flow_Nagpur_C3          40000.0\n",
       "5                Flow_NewDelhi_C1          50000.0\n",
       "6                Flow_NewDelhi_C6          20000.0\n",
       "7            Flow_NewDelhi_Nagpur          40000.0\n",
       "8  Flow_Vishakhapatnam_Coimbatore          55000.0\n",
       "9     Flow_Vishakhapatnam_Kolkata          50000.0"
      ]
     },
     "execution_count": 19,
     "metadata": {},
     "output_type": "execute_result"
    }
   ],
   "source": [
    "print(\"The optimal plan is as follows:\")\n",
    "df[df.Variable_Values > 0].reset_index(drop = True)"
   ]
  },
  {
   "cell_type": "code",
   "execution_count": null,
   "metadata": {},
   "outputs": [],
   "source": []
  }
 ],
 "metadata": {
  "kernelspec": {
   "display_name": "Python 3",
   "language": "python",
   "name": "python3"
  },
  "language_info": {
   "codemirror_mode": {
    "name": "ipython",
    "version": 3
   },
   "file_extension": ".py",
   "mimetype": "text/x-python",
   "name": "python",
   "nbconvert_exporter": "python",
   "pygments_lexer": "ipython3",
   "version": "3.7.9"
  }
 },
 "nbformat": 4,
 "nbformat_minor": 4
}
